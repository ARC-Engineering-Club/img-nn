{
 "cells": [
  {
   "cell_type": "markdown",
   "metadata": {},
   "source": [
    "\n",
    "<h2/>\n",
    "This notebook explains Michael Nielsen's implementation of a simple, fully connected neural network.\n",
    "</h2>\n",
    "\n",
    "<br>\n",
    "A fully connected neural network works fairly well for recognizing grayscale images with low variation, such as pictures of digits and characters. For images that have greater variation, a convolutional neural network (CNN) is required. However, a convolutional network is simply an extension of a fully connected network, so it is necessary to understand how a more basic network works before moving on to CNNs.\n",
    "<br>\n",
    "\n",
    "Before reading this code, you should be fairly confident with reading and understanding Python syntax (or familiar enough in programming to figure it out). You should also be familiar with object-oriented concepts such as classes and objects. If you have any questions, post them in the ARC Engineering Club Discord or message/email a club officer. \n",
    "<br>\n",
    "\n",
    "For a more general and intuitive understanding of what the neural network is doing, it will be helpful to refer to <a href=\"https://www.youtube.com/watch?v=aircAruvnKk&list=PLZHQObOWTQDNU6R1_67000Dx_ZCJB-3pi\"><b/>this</b></a> playlist of videos by 3Blue1Brown. <b/> I strongly recommend watching this playlist as it will make understanding the code implementation of the network much easier </b> However, I will try my best to write annotations assuming you have not watched the playlist.\n",
    "<br>\n",
    "\n",
    "So let's get started!"
   ]
  },
  {
   "cell_type": "markdown",
   "metadata": {},
   "source": [
    "We begin by importing the libraries that we will need for the neural network.\n",
    "<br>\n",
    "We will only be using two external packages, <i/>random</i> and <i/>numpy</i>.\n",
    "<ul>\n",
    "    <li><b>random</b> - </li>\n",
    "    <li><b>numpy</b> - </li>\n",
    "</ul>"
   ]
  }
 ],
 "metadata": {
  "kernelspec": {
   "display_name": "Python 3",
   "language": "python",
   "name": "python3"
  },
  "language_info": {
   "codemirror_mode": {
    "name": "ipython",
    "version": 3
   },
   "file_extension": ".py",
   "mimetype": "text/x-python",
   "name": "python",
   "nbconvert_exporter": "python",
   "pygments_lexer": "ipython3",
   "version": "3.6.4"
  }
 },
 "nbformat": 4,
 "nbformat_minor": 2
}
